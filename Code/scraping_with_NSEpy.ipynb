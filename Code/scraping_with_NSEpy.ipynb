{
  "nbformat": 4,
  "nbformat_minor": 0,
  "metadata": {
    "colab": {
      "name": "NSEpy.ipynb",
      "provenance": []
    },
    "kernelspec": {
      "name": "python3",
      "display_name": "Python 3"
    },
    "language_info": {
      "name": "python"
    }
  },
  "cells": [
    {
      "cell_type": "code",
      "execution_count": 1,
      "metadata": {
        "colab": {
          "base_uri": "https://localhost:8080/"
        },
        "id": "5OIN9l3aIqB-",
        "outputId": "c25e4fa2-4c4c-4ba4-f338-a8d290f66296"
      },
      "outputs": [
        {
          "output_type": "stream",
          "name": "stdout",
          "text": [
            "Exception reporting mode: Plain\n",
            "Doctest mode is: ON\n"
          ]
        }
      ],
      "source": [
        "%doctest_mode"
      ]
    },
    {
      "cell_type": "code",
      "source": [
        "!pip install nsepy"
      ],
      "metadata": {
        "colab": {
          "base_uri": "https://localhost:8080/"
        },
        "id": "BLI-DHkDJV4k",
        "outputId": "f85fa7b4-7e75-4b60-e031-5f64bd702159"
      },
      "execution_count": 3,
      "outputs": [
        {
          "output_type": "stream",
          "name": "stdout",
          "text": [
            "Collecting nsepy\n",
            "  Downloading nsepy-0.8.tar.gz (33 kB)\n",
            "Requirement already satisfied: beautifulsoup4 in /usr/local/lib/python3.7/dist-packages (from nsepy) (4.6.3)\n",
            "Requirement already satisfied: requests in /usr/local/lib/python3.7/dist-packages (from nsepy) (2.23.0)\n",
            "Requirement already satisfied: numpy in /usr/local/lib/python3.7/dist-packages (from nsepy) (1.21.6)\n",
            "Requirement already satisfied: pandas in /usr/local/lib/python3.7/dist-packages (from nsepy) (1.3.5)\n",
            "Requirement already satisfied: six in /usr/local/lib/python3.7/dist-packages (from nsepy) (1.15.0)\n",
            "Requirement already satisfied: click in /usr/local/lib/python3.7/dist-packages (from nsepy) (7.1.2)\n",
            "Requirement already satisfied: lxml in /usr/local/lib/python3.7/dist-packages (from nsepy) (4.2.6)\n",
            "Requirement already satisfied: python-dateutil>=2.7.3 in /usr/local/lib/python3.7/dist-packages (from pandas->nsepy) (2.8.2)\n",
            "Requirement already satisfied: pytz>=2017.3 in /usr/local/lib/python3.7/dist-packages (from pandas->nsepy) (2022.1)\n",
            "Requirement already satisfied: urllib3!=1.25.0,!=1.25.1,<1.26,>=1.21.1 in /usr/local/lib/python3.7/dist-packages (from requests->nsepy) (1.24.3)\n",
            "Requirement already satisfied: certifi>=2017.4.17 in /usr/local/lib/python3.7/dist-packages (from requests->nsepy) (2021.10.8)\n",
            "Requirement already satisfied: chardet<4,>=3.0.2 in /usr/local/lib/python3.7/dist-packages (from requests->nsepy) (3.0.4)\n",
            "Requirement already satisfied: idna<3,>=2.5 in /usr/local/lib/python3.7/dist-packages (from requests->nsepy) (2.10)\n",
            "Building wheels for collected packages: nsepy\n",
            "  Building wheel for nsepy (setup.py) ... \u001b[?25l\u001b[?25hdone\n",
            "  Created wheel for nsepy: filename=nsepy-0.8-py3-none-any.whl size=36084 sha256=46bd0c36cd3476e7e1ed41396be264722a9919456d5b3cf9eda955dbdf3b5b6f\n",
            "  Stored in directory: /root/.cache/pip/wheels/32/ab/d9/78ceea14cdf6de83376082b3cb0c2999fd77f823e35c47b9ec\n",
            "Successfully built nsepy\n",
            "Installing collected packages: nsepy\n",
            "Successfully installed nsepy-0.8\n"
          ]
        }
      ]
    },
    {
      "cell_type": "code",
      "source": [
        "from nsepy import get_history\n",
        "from datetime import date\n",
        "import pandas as pd\n",
        "from nsepy.derivatives import get_expiry_date\n"
      ],
      "metadata": {
        "id": "_sRZaolfI7Vu"
      },
      "execution_count": 5,
      "outputs": []
    },
    {
      "cell_type": "code",
      "source": [
        "expiry = get_expiry_date(year=2015, month=12)\n",
        "expiry"
      ],
      "metadata": {
        "colab": {
          "base_uri": "https://localhost:8080/"
        },
        "id": "hrZguS-EJI_i",
        "outputId": "83d264b8-a958-4509-8101-5e403fb7e54d"
      },
      "execution_count": 6,
      "outputs": [
        {
          "output_type": "execute_result",
          "data": {
            "text/plain": [
              "{datetime.date(2015, 12, 18), datetime.date(2015, 12, 31)}"
            ]
          },
          "metadata": {},
          "execution_count": 6
        }
      ]
    },
    {
      "cell_type": "markdown",
      "source": [
        "# scraping TCS stock data"
      ],
      "metadata": {
        "id": "oI_H-DpmLiTB"
      }
    },
    {
      "cell_type": "code",
      "source": [
        "tcs = get_history(symbol='TCS', start= date(2015,1,1), end= date(2015,12,31))"
      ],
      "metadata": {
        "id": "M9jIYyrPJjJF"
      },
      "execution_count": 7,
      "outputs": []
    },
    {
      "cell_type": "code",
      "source": [
        "tcs"
      ],
      "metadata": {
        "colab": {
          "base_uri": "https://localhost:8080/"
        },
        "id": "ARA-e1ePJ_lT",
        "outputId": "a02f0159-6809-4e27-8783-b3c926649c46"
      },
      "execution_count": 8,
      "outputs": [
        {
          "output_type": "execute_result",
          "data": {
            "text/plain": [
              "           Symbol Series  Prev Close     Open     High      Low     Last  \\\n",
              "Date                                                                       \n",
              "2015-01-01    TCS     EQ     2558.25  2567.00  2567.00  2541.00  2550.00   \n",
              "2015-01-02    TCS     EQ     2545.55  2551.00  2590.95  2550.60  2588.40   \n",
              "2015-01-05    TCS     EQ     2579.45  2581.00  2599.90  2524.65  2538.10   \n",
              "2015-01-06    TCS     EQ     2540.25  2529.10  2529.10  2440.00  2450.05   \n",
              "2015-01-07    TCS     EQ     2446.60  2470.00  2479.15  2407.45  2426.90   \n",
              "...           ...    ...         ...      ...      ...      ...      ...   \n",
              "2015-12-24    TCS     EQ     2425.80  2421.00  2438.20  2404.00  2435.00   \n",
              "2015-12-28    TCS     EQ     2434.25  2428.00  2466.40  2420.20  2456.95   \n",
              "2015-12-29    TCS     EQ     2462.70  2458.35  2465.30  2445.75  2449.35   \n",
              "2015-12-30    TCS     EQ     2455.80  2453.05  2459.00  2412.30  2421.70   \n",
              "2015-12-31    TCS     EQ     2418.30  2415.75  2448.50  2407.50  2430.00   \n",
              "\n",
              "              Close     VWAP   Volume      Turnover  Trades  \\\n",
              "Date                                                          \n",
              "2015-01-01  2545.55  2548.51   183415  4.674345e+13    8002   \n",
              "2015-01-02  2579.45  2568.19   462870  1.188740e+14   27585   \n",
              "2015-01-05  2540.25  2563.94   877121  2.248886e+14   43234   \n",
              "2015-01-06  2446.60  2466.90  1211892  2.989615e+14   84503   \n",
              "2015-01-07  2417.70  2433.96  1318166  3.208362e+14  101741   \n",
              "...             ...      ...      ...           ...     ...   \n",
              "2015-12-24  2434.25  2424.03   421580  1.021924e+14   21932   \n",
              "2015-12-28  2462.70  2455.00  1852099  4.546896e+14   43390   \n",
              "2015-12-29  2455.80  2452.26   854262  2.094875e+14   26975   \n",
              "2015-12-30  2418.30  2442.06   802881  1.960682e+14   49464   \n",
              "2015-12-31  2436.85  2428.90   620159  1.506303e+14   42600   \n",
              "\n",
              "            Deliverable Volume  %Deliverble  \n",
              "Date                                         \n",
              "2015-01-01               52870       0.2883  \n",
              "2015-01-02              309350       0.6683  \n",
              "2015-01-05              456728       0.5207  \n",
              "2015-01-06              714306       0.5894  \n",
              "2015-01-07              886368       0.6724  \n",
              "...                        ...          ...  \n",
              "2015-12-24              188670       0.4475  \n",
              "2015-12-28             1060100       0.5724  \n",
              "2015-12-29              433986       0.5080  \n",
              "2015-12-30              632180       0.7874  \n",
              "2015-12-31              400391       0.6456  \n",
              "\n",
              "[248 rows x 14 columns]"
            ]
          },
          "metadata": {},
          "execution_count": 8
        }
      ]
    },
    {
      "cell_type": "code",
      "source": [
        "tcs.insert(0,'Date', pd.to_datetime(tcs.index, format='%Y-%m-%d'))"
      ],
      "metadata": {
        "id": "NckyQ4qqKBE1"
      },
      "execution_count": 9,
      "outputs": []
    },
    {
      "cell_type": "code",
      "source": [
        "print(type(tcs.index))\n",
        "print(type(tcs.Date))\n",
        "tcs.Date.dt"
      ],
      "metadata": {
        "colab": {
          "base_uri": "https://localhost:8080/"
        },
        "id": "hZO0_YvEKbK1",
        "outputId": "dc35b320-affe-4fe0-8635-d734a48c60e7"
      },
      "execution_count": 20,
      "outputs": [
        {
          "output_type": "stream",
          "name": "stdout",
          "text": [
            "<class 'pandas.core.indexes.base.Index'>\n",
            "<class 'pandas.core.series.Series'>\n"
          ]
        },
        {
          "output_type": "execute_result",
          "data": {
            "text/plain": [
              "<pandas.core.indexes.accessors.DatetimeProperties object at 0x7fb11528a790>"
            ]
          },
          "metadata": {},
          "execution_count": 20
        }
      ]
    },
    {
      "cell_type": "code",
      "source": [
        "tcs.to_csv('tcs_stock.csv', encoding='utf-8',index=False)"
      ],
      "metadata": {
        "id": "hKmWi32zKfwt"
      },
      "execution_count": 13,
      "outputs": []
    },
    {
      "cell_type": "markdown",
      "source": [
        "# scraping INFY stock data"
      ],
      "metadata": {
        "id": "6scay9g3Lar8"
      }
    },
    {
      "cell_type": "code",
      "source": [
        "infy = get_history(symbol='INFY', start=date(2015,1,1), end=date(2015,12,31))"
      ],
      "metadata": {
        "id": "HFfEKprWKv5o"
      },
      "execution_count": 14,
      "outputs": []
    },
    {
      "cell_type": "code",
      "source": [
        "infy"
      ],
      "metadata": {
        "colab": {
          "base_uri": "https://localhost:8080/"
        },
        "id": "lVay01PvL4qx",
        "outputId": "aa7998f6-db56-498f-e510-c9c3ed25ac17"
      },
      "execution_count": 17,
      "outputs": [
        {
          "output_type": "execute_result",
          "data": {
            "text/plain": [
              "           Symbol Series  Prev Close     Open     High     Low     Last  \\\n",
              "Date                                                                      \n",
              "2015-01-01   INFY     EQ     1972.55  1968.95  1982.00  1956.9  1971.00   \n",
              "2015-01-02   INFY     EQ     1974.40  1972.00  2019.05  1972.0  2017.95   \n",
              "2015-01-05   INFY     EQ     2013.20  2009.90  2030.00  1977.5  1996.00   \n",
              "2015-01-06   INFY     EQ     1995.90  1980.00  1985.00  1934.1  1965.10   \n",
              "2015-01-07   INFY     EQ     1954.20  1965.00  1974.75  1950.0  1966.05   \n",
              "...           ...    ...         ...      ...      ...     ...      ...   \n",
              "2015-12-24   INFY     EQ     1100.85  1102.05  1104.45  1090.1  1095.80   \n",
              "2015-12-28   INFY     EQ     1096.35  1090.00  1110.00  1090.0  1103.80   \n",
              "2015-12-29   INFY     EQ     1104.75  1101.25  1110.00  1097.3  1103.00   \n",
              "2015-12-30   INFY     EQ     1104.70  1101.10  1106.60  1083.0  1088.00   \n",
              "2015-12-31   INFY     EQ     1086.30  1090.15  1109.95  1087.0  1107.00   \n",
              "\n",
              "              Close     VWAP   Volume      Turnover  Trades  \\\n",
              "Date                                                          \n",
              "2015-01-01  1974.40  1971.34   500691  9.870306e+13   14908   \n",
              "2015-01-02  2013.20  2003.25  1694580  3.394669e+14   54166   \n",
              "2015-01-05  1995.90  2004.59  2484256  4.979911e+14   82694   \n",
              "2015-01-06  1954.20  1954.82  2416829  4.724458e+14  108209   \n",
              "2015-01-07  1963.55  1962.59  1812479  3.557162e+14   62463   \n",
              "...             ...      ...      ...           ...     ...   \n",
              "2015-12-24  1096.35  1095.84   615027  6.739696e+13   20528   \n",
              "2015-12-28  1104.75  1105.51  2763476  3.055046e+14   51103   \n",
              "2015-12-29  1104.70  1104.14  1672531  1.846706e+14   52409   \n",
              "2015-12-30  1086.30  1094.45  2576985  2.820380e+14   65379   \n",
              "2015-12-31  1105.40  1102.09  3971969  4.377467e+14   75143   \n",
              "\n",
              "            Deliverable Volume  %Deliverble  \n",
              "Date                                         \n",
              "2015-01-01              258080       0.5154  \n",
              "2015-01-02             1249104       0.7371  \n",
              "2015-01-05             1830962       0.7370  \n",
              "2015-01-06             1772070       0.7332  \n",
              "2015-01-07             1317720       0.7270  \n",
              "...                        ...          ...  \n",
              "2015-12-24              294731       0.4792  \n",
              "2015-12-28             1880078       0.6803  \n",
              "2015-12-29              967577       0.5785  \n",
              "2015-12-30             1754378       0.6808  \n",
              "2015-12-31             2641827       0.6651  \n",
              "\n",
              "[248 rows x 14 columns]"
            ]
          },
          "metadata": {},
          "execution_count": 17
        }
      ]
    },
    {
      "cell_type": "code",
      "source": [
        "infy.insert(0,'Date',pd.to_datetime(infy.index, format='%Y-%m-%d'))"
      ],
      "metadata": {
        "id": "_dDwi2eJL6Lp"
      },
      "execution_count": 18,
      "outputs": []
    },
    {
      "cell_type": "code",
      "source": [
        "print(type(infy.index))\n",
        "print(type(infy.Date))\n",
        "infy.Date.dt"
      ],
      "metadata": {
        "colab": {
          "base_uri": "https://localhost:8080/"
        },
        "id": "eoN6IYe_MTno",
        "outputId": "71ea0bb9-0d46-4f2a-c0a8-511e3725eb72"
      },
      "execution_count": 19,
      "outputs": [
        {
          "output_type": "stream",
          "name": "stdout",
          "text": [
            "<class 'pandas.core.indexes.base.Index'>\n",
            "<class 'pandas.core.series.Series'>\n"
          ]
        },
        {
          "output_type": "execute_result",
          "data": {
            "text/plain": [
              "<pandas.core.indexes.accessors.DatetimeProperties object at 0x7fb1145cb5d0>"
            ]
          },
          "metadata": {},
          "execution_count": 19
        }
      ]
    },
    {
      "cell_type": "code",
      "source": [
        "infy.to_csv('infy_stock.csv',encoding='utf-8',index=False)"
      ],
      "metadata": {
        "id": "8oLjBsxDMWGf"
      },
      "execution_count": 21,
      "outputs": []
    },
    {
      "cell_type": "markdown",
      "source": [
        "# scraping NIFYIT data"
      ],
      "metadata": {
        "id": "4VFYdUG7MyEd"
      }
    },
    {
      "cell_type": "code",
      "source": [
        "nifty_it = get_history(symbol=\"NIFTYIT\",\n",
        "                            start=date(2015,1,1),\n",
        "                            end=date(2015,12,31),\n",
        "                            index=True)\n",
        "nifty_it"
      ],
      "metadata": {
        "colab": {
          "base_uri": "https://localhost:8080/"
        },
        "id": "cVwES_uLMoNL",
        "outputId": "23aeca2b-a504-422c-e027-fdaf5662cba5"
      },
      "execution_count": 27,
      "outputs": [
        {
          "output_type": "execute_result",
          "data": {
            "text/plain": [
              "                Open      High       Low     Close    Volume      Turnover\n",
              "Date                                                                      \n",
              "2015-01-01  11214.80  11235.75  11166.35  11215.70   4246150  3.575100e+09\n",
              "2015-01-02  11214.65  11399.10  11214.65  11372.10  10004862  9.645600e+09\n",
              "2015-01-05  11369.35  11433.75  11186.95  11248.55   8858018  1.059000e+10\n",
              "2015-01-06  11186.10  11186.10  10909.00  10959.90  12515739  1.364500e+10\n",
              "2015-01-07  11013.20  11042.35  10889.55  10916.00  10976356  1.203440e+10\n",
              "...              ...       ...       ...       ...       ...           ...\n",
              "2015-12-24  11193.25  11197.50  11152.85  11184.90   2927864  3.182700e+09\n",
              "2015-12-28  11152.70  11303.05  11146.85  11271.80   8055590  1.001900e+10\n",
              "2015-12-29  11257.05  11287.50  11206.60  11253.45   6024174  6.626200e+09\n",
              "2015-12-30  11247.35  11263.60  11100.10  11117.60   6564991  7.071900e+09\n",
              "2015-12-31  11113.00  11233.85  11113.00  11212.55   8197040  8.590500e+09\n",
              "\n",
              "[248 rows x 6 columns]"
            ]
          },
          "metadata": {},
          "execution_count": 27
        }
      ]
    },
    {
      "cell_type": "code",
      "source": [
        "nifty_it.insert(0, 'Date',  pd.to_datetime(nifty_it.index,format='%Y-%m-%d') )\n",
        "print(type(nifty_it.index))\n",
        "print(type(nifty_it.Date))\n",
        "nifty_it.Date.dt"
      ],
      "metadata": {
        "colab": {
          "base_uri": "https://localhost:8080/"
        },
        "id": "fWaPeHOHNOe4",
        "outputId": "892faa90-fa65-4e6d-dd0f-40bb10d7ae06"
      },
      "execution_count": 28,
      "outputs": [
        {
          "output_type": "stream",
          "name": "stdout",
          "text": [
            "<class 'pandas.core.indexes.base.Index'>\n",
            "<class 'pandas.core.series.Series'>\n"
          ]
        },
        {
          "output_type": "execute_result",
          "data": {
            "text/plain": [
              "<pandas.core.indexes.accessors.DatetimeProperties object at 0x7fb115197690>"
            ]
          },
          "metadata": {},
          "execution_count": 28
        }
      ]
    },
    {
      "cell_type": "code",
      "source": [
        "nifty_it.to_csv('nifty_it_index.csv', encoding='utf-8', index=False)"
      ],
      "metadata": {
        "id": "kiao-EARNcEv"
      },
      "execution_count": 30,
      "outputs": []
    }
  ]
}